{
 "cells": [
  {
   "cell_type": "code",
   "execution_count": 1,
   "metadata": {},
   "outputs": [],
   "source": [
    "# host addresses\n",
    "SERVER0 = \"\"  \n",
    "SERVER1 = \"\""
   ]
  },
  {
   "cell_type": "code",
   "execution_count": 2,
   "metadata": {},
   "outputs": [],
   "source": [
    "from isanlp import PipelineCommon\n",
    "from isanlp.processor_remote import ProcessorRemote\n",
    "from isanlp.ru.processor_mystem import ProcessorMystem\n",
    "from isanlp.ru.converter_mystem_to_ud import ConverterMystemToUd\n",
    "from processor_grameval2020 import ProcessorGramEval2020\n",
    "\n",
    "\n",
    "address_udpipe = (SERVER0, 3344)\n",
    "address_qbic = (SERVER1, 3334)\n",
    "\n",
    "ppl_udpipe = PipelineCommon([\n",
    "    (ProcessorRemote(address_udpipe[0], address_udpipe[1], '0'),\n",
    "     ['text'],\n",
    "     {'sentences': 'sentences',\n",
    "      'tokens': 'tokens',\n",
    "      'lemma': 'lemma',\n",
    "      'syntax_dep_tree': 'syntax_dep_tree',\n",
    "      'postag': 'ud_postag'}),\n",
    "    (ProcessorMystem(delay_init=False),\n",
    "     ['tokens', 'sentences'],\n",
    "     {'postag': 'postag'}),\n",
    "    (ConverterMystemToUd(),\n",
    "     ['postag'],\n",
    "     {'morph': 'morph',\n",
    "      'postag': 'postag'})\n",
    "])\n",
    "\n",
    "ppl_qbic = PipelineCommon([\n",
    "    (ProcessorRemote(address_udpipe[0], address_udpipe[1], '0'),\n",
    "     ['text'],\n",
    "     {'sentences': 'sentences',\n",
    "      'tokens': 'tokens'}),\n",
    "    (ProcessorRemote(address_qbic[0], address_qbic[1], '0'),\n",
    "     ['tokens', 'sentences'],\n",
    "     {'lemma': 'lemma',\n",
    "      'postag': 'postag',\n",
    "      'morph': 'morph',\n",
    "      'syntax_dep_tree': 'syntax_dep_tree'})\n",
    "])"
   ]
  },
  {
   "cell_type": "code",
   "execution_count": 3,
   "metadata": {},
   "outputs": [],
   "source": [
    "text = \"По нашим данным, кости обнаружили при рытье котлована торгового центра «Европа» еще в 2006 году.\""
   ]
  },
  {
   "cell_type": "markdown",
   "metadata": {},
   "source": [
    "#### UDPipe output:"
   ]
  },
  {
   "cell_type": "code",
   "execution_count": 4,
   "metadata": {
    "scrolled": false
   },
   "outputs": [
    {
     "name": "stdout",
     "output_type": "stream",
     "text": [
      "      ┌──► По         case\n",
      "      │ ┌► нашим      det\n",
      "    ┌►└─└─ данным     parataxis\n",
      "    │ └──► ,          punct\n",
      "    │   ┌► кости      nsubj\n",
      "┌─┌─└─┌─└─ обнаружили \n",
      "│ │   │ ┌► при        case\n",
      "│ │ ┌─└►└─ рытье      obl\n",
      "│ │ │ └──► котлована  nmod\n",
      "│ │ │   ┌► торгового  amod\n",
      "│ │ └►┌─└─ центра     nmod\n",
      "│ │   │ ┌► «          punct\n",
      "│ │   └►└─ Европа     appos\n",
      "│ │   └──► »          punct\n",
      "│ │ ┌────► еще        obl\n",
      "│ │ │ ┌──► в          case\n",
      "│ │ │ │ ┌► 2006       nummod\n",
      "│ └►└─└─└─ году       obl\n",
      "└────────► .          punct\n"
     ]
    }
   ],
   "source": [
    "from print_syntax import print_syntax_dep_tree\n",
    "\n",
    "result = ppl_udpipe(text)\n",
    "print_syntax_dep_tree(result)"
   ]
  },
  {
   "cell_type": "markdown",
   "metadata": {},
   "source": [
    "#### qbic output: "
   ]
  },
  {
   "cell_type": "code",
   "execution_count": 5,
   "metadata": {
    "scrolled": true
   },
   "outputs": [
    {
     "name": "stdout",
     "output_type": "stream",
     "text": [
      "        ┌──► По         case\n",
      "        │ ┌► нашим      det\n",
      "      ┌►└─└─ данным     parataxis\n",
      "      │ └──► ,          punct\n",
      "      │   ┌► кости      obj\n",
      "┌─┌───└─┌─└─ обнаружили \n",
      "│ │     │ ┌► при        case\n",
      "│ │     └►└─ рытье      obl\n",
      "│ │   ┌─└──► котлована  nmod\n",
      "│ │   │   ┌► торгового  amod\n",
      "│ │ ┌─└──►└─ центра     nmod\n",
      "│ │ │     ┌► «          punct\n",
      "│ │ └──►┌─└─ Европа     appos\n",
      "│ │     └──► »          punct\n",
      "│ │   ┌────► еще        advmod\n",
      "│ │   │ ┌──► в          case\n",
      "│ │   │ │ ┌► 2006       amod\n",
      "│ └──►└─└─└─ году       obl\n",
      "└──────────► .          punct\n"
     ]
    }
   ],
   "source": [
    "result = ppl_qbic(text)\n",
    "print_syntax_dep_tree(result)"
   ]
  }
 ],
 "metadata": {
  "kernelspec": {
   "display_name": "Python 3",
   "language": "python",
   "name": "python3"
  },
  "language_info": {
   "codemirror_mode": {
    "name": "ipython",
    "version": 3
   },
   "file_extension": ".py",
   "mimetype": "text/x-python",
   "name": "python",
   "nbconvert_exporter": "python",
   "pygments_lexer": "ipython3",
   "version": "3.7.4"
  }
 },
 "nbformat": 4,
 "nbformat_minor": 4
}
